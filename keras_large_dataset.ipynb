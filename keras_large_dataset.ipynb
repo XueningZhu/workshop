{
 "cells": [
  {
   "cell_type": "code",
   "execution_count": 1,
   "metadata": {},
   "outputs": [
    {
     "name": "stderr",
     "output_type": "stream",
     "text": [
      "Using TensorFlow backend.\n"
     ]
    }
   ],
   "source": [
    "import numpy as np\n",
    "import keras\n",
    "import random"
   ]
  },
  {
   "cell_type": "code",
   "execution_count": 11,
   "metadata": {
    "collapsed": true
   },
   "outputs": [],
   "source": [
    "# generate random data\n",
    "\n",
    "f = open(\"data.csv\", 'w')\n",
    "\n",
    "for _ in range(100000):\n",
    "    x1 = random.random()\n",
    "    x2 = random.random()\n",
    "    y = np.sin(x1) + np.exp(x2) + 0.1 *random.random()\n",
    "    print(','.join([str(x1), str(x2), str(y)]), file=f)\n",
    "    \n",
    "\n",
    "f = open(\"data_test.csv\", 'w')\n",
    "\n",
    "for _ in range(100000):\n",
    "    x1 = random.random()\n",
    "    x2 = random.random()\n",
    "    y = np.sin(x1)  + np.exp(x2) + 0.1 * random.random()\n",
    "    print(','.join([str(x1), str(x2), str(y)]), file=f)"
   ]
  },
  {
   "cell_type": "code",
   "execution_count": 12,
   "metadata": {
    "collapsed": true
   },
   "outputs": [],
   "source": [
    "\n",
    "class DataGenerator(keras.utils.Sequence):\n",
    "    'Generates data for Keras'\n",
    "    def __init__(self, file_cursor, total_num_data, num_features, batch_size=32,shuffle=True):\n",
    "        \"\"\"\n",
    "            file_cursor is an opened file, WITHOUT .read() \n",
    "        \"\"\"\n",
    "        self.total_num_data = total_num_data\n",
    "        self.num_features = num_features\n",
    "        self.batch_size = batch_size\n",
    "        self.shuffle = shuffle\n",
    "        self.file_cursor = file_cursor\n",
    "        self.on_epoch_end()\n",
    "\n",
    "    def __len__(self):\n",
    "        'Denotes the number of batches per epoch'\n",
    "        return int(np.floor(self.total_num_data / self.batch_size))\n",
    "\n",
    "    def __getitem__(self, index):\n",
    "        'Generate one batch of data'\n",
    "\n",
    "        X, y = self.__data_generation()\n",
    "\n",
    "        return X, y\n",
    "\n",
    "    def on_epoch_end(self):\n",
    "        'Updates indexes after each epoch, reopen the file'\n",
    "        self.file_cursor.seek(0)\n",
    "\n",
    "    def __data_generation(self):\n",
    "        \"\"\"read self.batch_size of examples\"\"\"\n",
    "        \n",
    "        'Generates data containing batch_size samples' # X : (n_samples, *dim, n_channels)\n",
    "        # Initialization\n",
    "        X = np.empty((self.batch_size, self.num_features))\n",
    "        y = np.empty((self.batch_size,))\n",
    "\n",
    "        for i in range(self.batch_size):\n",
    "            line = self.file_cursor.readline()\n",
    "            # parse string to numpy\n",
    "            line = [float(v) for v in line[:-1].split(',')]\n",
    "            X[i,:] = line[:-1]\n",
    "            y[i] = line[-1]\n",
    "        \n",
    "        return X, y"
   ]
  },
  {
   "cell_type": "code",
   "execution_count": 13,
   "metadata": {
    "collapsed": true
   },
   "outputs": [],
   "source": [
    "f = open(\"data.csv\", 'r')\n",
    "gen = DataGenerator(file_cursor=f, total_num_data=100000, num_features=2)"
   ]
  },
  {
   "cell_type": "code",
   "execution_count": 14,
   "metadata": {
    "collapsed": true
   },
   "outputs": [],
   "source": [
    "f = open(\"data.csv\", 'r')\n",
    "for line in f.readlines():\n",
    "    line = [float(v) for v in line[:-1].split(',')]\n",
    "    if len(line)!=3:\n",
    "        print(line)"
   ]
  },
  {
   "cell_type": "code",
   "execution_count": 15,
   "metadata": {
    "collapsed": true
   },
   "outputs": [],
   "source": [
    "X, y = gen.__getitem__(0)"
   ]
  },
  {
   "cell_type": "code",
   "execution_count": 16,
   "metadata": {},
   "outputs": [
    {
     "name": "stdout",
     "output_type": "stream",
     "text": [
      "Epoch 1/5\n",
      "3125/3125 [==============================] - 5s 1ms/step - loss: 0.8113 - mean_absolute_error: 0.6224 - val_loss: 0.0470 - val_mean_absolute_error: 0.1758\n",
      "Epoch 2/5\n",
      "3125/3125 [==============================] - 4s 1ms/step - loss: 0.0181 - mean_absolute_error: 0.1020 - val_loss: 0.0055 - val_mean_absolute_error: 0.0600\n",
      "Epoch 3/5\n",
      "3125/3125 [==============================] - 4s 1ms/step - loss: 0.0052 - mean_absolute_error: 0.0592 - val_loss: 0.0051 - val_mean_absolute_error: 0.0582\n",
      "Epoch 4/5\n",
      "3125/3125 [==============================] - 4s 1ms/step - loss: 0.0051 - mean_absolute_error: 0.0591 - val_loss: 0.0051 - val_mean_absolute_error: 0.0581\n",
      "Epoch 5/5\n",
      "3125/3125 [==============================] - 4s 1ms/step - loss: 0.0051 - mean_absolute_error: 0.0591 - val_loss: 0.0051 - val_mean_absolute_error: 0.0581\n"
     ]
    },
    {
     "data": {
      "text/plain": [
       "<keras.callbacks.History at 0x10a6b4f60>"
      ]
     },
     "execution_count": 16,
     "metadata": {},
     "output_type": "execute_result"
    }
   ],
   "source": [
    "from keras.models import Sequential\n",
    "from keras.layers import Dense\n",
    "from keras.optimizers import Adam,SGD\n",
    "\n",
    "\n",
    "\n",
    "# Generators\n",
    "training_generator = DataGenerator(open(\"data.csv\", 'r'), total_num_data=100000, num_features=2)\n",
    "validation_generator = DataGenerator(open(\"data_test.csv\", 'r'), total_num_data=100000, num_features=2)\n",
    "\n",
    "# Design model\n",
    "\n",
    "# 如果要改模型， 只需要改这个东西\n",
    "\n",
    "model = Sequential()\n",
    "model.add(Dense(1, input_dim=2,activation=None))\n",
    "model.compile(optimizer=Adam(0.001),\n",
    "              loss=\"mean_squared_error\",\n",
    "              metrics=['mae'])\n",
    "\n",
    "\n",
    "# Train model on dataset\n",
    "\n",
    "# 注意： 这个generator 只能用1个workers，不能两个进程一起读文件\n",
    "# 如果要使用多头读文件，需要更改__data_generation  并准备多份文件\n",
    "model.fit_generator(generator=training_generator,\n",
    "                    validation_data=validation_generator,\n",
    "                    epochs=5)"
   ]
  },
  {
   "cell_type": "code",
   "execution_count": 17,
   "metadata": {},
   "outputs": [
    {
     "name": "stdout",
     "output_type": "stream",
     "text": [
      "_________________________________________________________________\n",
      "Layer (type)                 Output Shape              Param #   \n",
      "=================================================================\n",
      "dense_2 (Dense)              (None, 1)                 3         \n",
      "=================================================================\n",
      "Total params: 3\n",
      "Trainable params: 3\n",
      "Non-trainable params: 0\n",
      "_________________________________________________________________\n"
     ]
    }
   ],
   "source": [
    "model.summary()"
   ]
  },
  {
   "cell_type": "code",
   "execution_count": 18,
   "metadata": {},
   "outputs": [
    {
     "data": {
      "text/plain": [
       "[<tf.Variable 'dense_2/kernel:0' shape=(2, 1) dtype=float32_ref>,\n",
       " <tf.Variable 'dense_2/bias:0' shape=(1,) dtype=float32_ref>]"
      ]
     },
     "execution_count": 18,
     "metadata": {},
     "output_type": "execute_result"
    }
   ],
   "source": [
    "model.weights"
   ]
  },
  {
   "cell_type": "code",
   "execution_count": 19,
   "metadata": {
    "collapsed": true
   },
   "outputs": [],
   "source": [
    "W = model.layers[0]"
   ]
  },
  {
   "cell_type": "markdown",
   "metadata": {},
   "source": [
    "## 查看weights"
   ]
  },
  {
   "cell_type": "code",
   "execution_count": 20,
   "metadata": {},
   "outputs": [
    {
     "data": {
      "text/plain": [
       "[array([[0.8518454],\n",
       "        [1.6893313]], dtype=float32), array([0.9499666], dtype=float32)]"
      ]
     },
     "execution_count": 20,
     "metadata": {},
     "output_type": "execute_result"
    }
   ],
   "source": [
    "W.get_weights()"
   ]
  },
  {
   "cell_type": "markdown",
   "metadata": {},
   "source": [
    "## 使用神经网络\n",
    "\n",
    "多加隐藏层"
   ]
  },
  {
   "cell_type": "code",
   "execution_count": 21,
   "metadata": {},
   "outputs": [
    {
     "name": "stdout",
     "output_type": "stream",
     "text": [
      "Epoch 1/5\n",
      "3125/3125 [==============================] - 6s 2ms/step - loss: 0.0472 - mean_absolute_error: 0.0650 - val_loss: 0.0012 - val_mean_absolute_error: 0.0291\n",
      "Epoch 2/5\n",
      "3125/3125 [==============================] - 5s 2ms/step - loss: 0.0010 - mean_absolute_error: 0.0267 - val_loss: 0.0014 - val_mean_absolute_error: 0.0305\n",
      "Epoch 3/5\n",
      "3125/3125 [==============================] - 5s 2ms/step - loss: 9.8576e-04 - mean_absolute_error: 0.0266 - val_loss: 0.0014 - val_mean_absolute_error: 0.0310\n",
      "Epoch 4/5\n",
      "3125/3125 [==============================] - 5s 2ms/step - loss: 9.7953e-04 - mean_absolute_error: 0.0265 - val_loss: 0.0015 - val_mean_absolute_error: 0.0315\n",
      "Epoch 5/5\n",
      "3125/3125 [==============================] - 5s 2ms/step - loss: 9.7210e-04 - mean_absolute_error: 0.0264 - val_loss: 0.0015 - val_mean_absolute_error: 0.0312\n"
     ]
    },
    {
     "data": {
      "text/plain": [
       "<keras.callbacks.History at 0x10a6abef0>"
      ]
     },
     "execution_count": 21,
     "metadata": {},
     "output_type": "execute_result"
    }
   ],
   "source": [
    "\n",
    "\n",
    "# Generators\n",
    "training_generator = DataGenerator(open(\"data.csv\", 'r'), total_num_data=100000, num_features=2)\n",
    "validation_generator = DataGenerator(open(\"data_test.csv\", 'r'), total_num_data=100000, num_features=2)\n",
    "\n",
    "# Design model\n",
    "\n",
    "# 如果要改模型， 只需要改这个东西\n",
    "\n",
    "model = Sequential()\n",
    "model.add(Dense(20, input_dim=2,activation='relu'))\n",
    "model.add(Dense(20,activation='relu'))\n",
    "model.add(Dense(20,activation='relu'))\n",
    "model.add(Dense(1,activation=None))\n",
    "model.compile(optimizer=Adam(0.001),\n",
    "              loss=\"mean_squared_error\",\n",
    "              metrics=['mae'])\n",
    "\n",
    "\n",
    "# Train model on dataset\n",
    "\n",
    "# 注意： 这个generator 只能用1个workers，不能两个进程一起读文件\n",
    "# 如果要使用多头读文件，需要更改__data_generation  并准备多份文件\n",
    "model.fit_generator(generator=training_generator,\n",
    "                    validation_data=validation_generator,\n",
    "                    epochs=5)"
   ]
  },
  {
   "cell_type": "markdown",
   "metadata": {},
   "source": [
    "##  怎么加变量\n",
    "\n",
    "    * y1 = f1(x1, x2)\n",
    "    * y2 = f1(y1, x3)\n",
    "    * output y2"
   ]
  },
  {
   "cell_type": "code",
   "execution_count": 88,
   "metadata": {
    "collapsed": true
   },
   "outputs": [],
   "source": [
    "from keras.layers import Concatenate\n",
    "from keras.models import Sequential, Model\n",
    "from keras.layers import Concatenate, Dense, LSTM, Input, concatenate\n",
    "from keras.optimizers import Adagrad\n",
    "\n",
    "first_input = Input(shape=(2, ))\n",
    "first_dense = Dense(1, )(first_input)\n",
    "\n",
    "second_input = Input(shape=(1, ))\n",
    "second_dense = Dense(1, )(second_input)\n",
    "\n",
    "merge = concatenate([first_dense, second_dense])\n",
    "output = Dense(1,)(merge)\n",
    "\n",
    "model = Model(inputs=[first_input, second_input], outputs=output)\n",
    "model.compile(optimizer=Adam(0.001), loss='mean_squared_error',\n",
    "               metrics=['mae'])\n"
   ]
  },
  {
   "cell_type": "code",
   "execution_count": 89,
   "metadata": {},
   "outputs": [
    {
     "name": "stdout",
     "output_type": "stream",
     "text": [
      "__________________________________________________________________________________________________\n",
      "Layer (type)                    Output Shape         Param #     Connected to                     \n",
      "==================================================================================================\n",
      "input_9 (InputLayer)            (None, 2)            0                                            \n",
      "__________________________________________________________________________________________________\n",
      "input_10 (InputLayer)           (None, 1)            0                                            \n",
      "__________________________________________________________________________________________________\n",
      "dense_40 (Dense)                (None, 1)            3           input_9[0][0]                    \n",
      "__________________________________________________________________________________________________\n",
      "dense_41 (Dense)                (None, 1)            2           input_10[0][0]                   \n",
      "__________________________________________________________________________________________________\n",
      "concatenate_7 (Concatenate)     (None, 2)            0           dense_40[0][0]                   \n",
      "                                                                 dense_41[0][0]                   \n",
      "__________________________________________________________________________________________________\n",
      "dense_42 (Dense)                (None, 1)            3           concatenate_7[0][0]              \n",
      "==================================================================================================\n",
      "Total params: 8\n",
      "Trainable params: 8\n",
      "Non-trainable params: 0\n",
      "__________________________________________________________________________________________________\n"
     ]
    }
   ],
   "source": [
    "model.summary()"
   ]
  },
  {
   "cell_type": "code",
   "execution_count": null,
   "metadata": {
    "collapsed": true
   },
   "outputs": [],
   "source": []
  },
  {
   "cell_type": "markdown",
   "metadata": {},
   "source": [
    "模型中需要两个input，所以需要更改data generator， 每次data_generation 一个列表"
   ]
  },
  {
   "cell_type": "code",
   "execution_count": 90,
   "metadata": {
    "collapsed": true
   },
   "outputs": [],
   "source": [
    "class DataGenerator(keras.utils.Sequence):\n",
    "    'Generates data for Keras'\n",
    "    def __init__(self, file_cursor, total_num_data, num_features, batch_size=32,shuffle=True):\n",
    "        \"\"\"\n",
    "            file_cursor is an opened file, WITHOUT .read() \n",
    "        \"\"\"\n",
    "        self.total_num_data = total_num_data\n",
    "        self.num_features = num_features\n",
    "        self.batch_size = batch_size\n",
    "        self.shuffle = shuffle\n",
    "        self.file_cursor = file_cursor\n",
    "        self.on_epoch_end()\n",
    "\n",
    "    def __len__(self):\n",
    "        'Denotes the number of batches per epoch'\n",
    "        return int(np.floor(self.total_num_data / self.batch_size))\n",
    "\n",
    "    def __getitem__(self, index):\n",
    "        'Generate one batch of data'\n",
    "\n",
    "        X, y = self.__data_generation()\n",
    "\n",
    "        return X, y\n",
    "\n",
    "    def on_epoch_end(self):\n",
    "        'Updates indexes after each epoch, reopen the file'\n",
    "        self.file_cursor.seek(0)\n",
    "\n",
    "    def __data_generation(self):\n",
    "        \"\"\"read self.batch_size of examples\"\"\"\n",
    "        \n",
    "        'Generates data containing batch_size samples' # X : (n_samples, *dim, n_channels)\n",
    "        # Initialization\n",
    "        X = np.empty((self.batch_size, self.num_features))\n",
    "        X2 = np.empty((self.batch_size, 1))\n",
    "        y = np.empty((self.batch_size,))\n",
    "\n",
    "        for i in range(self.batch_size):\n",
    "            line = self.file_cursor.readline()\n",
    "            # parse string to numpy\n",
    "            line = [float(v) for v in line[:-1].split(',')]\n",
    "            X[i,:] = line[:-1]\n",
    "            X2[i] = line[0]\n",
    "            y[i] = line[-1]\n",
    "        \n",
    "        return [X, X2], y"
   ]
  },
  {
   "cell_type": "code",
   "execution_count": 91,
   "metadata": {},
   "outputs": [
    {
     "name": "stdout",
     "output_type": "stream",
     "text": [
      "Epoch 1/5\n",
      "3125/3125 [==============================] - 7s 2ms/step - loss: 0.6993 - mean_absolute_error: 0.5563 - val_loss: 0.0944 - val_mean_absolute_error: 0.2612\n",
      "Epoch 2/5\n",
      "3125/3125 [==============================] - 6s 2ms/step - loss: 0.0928 - mean_absolute_error: 0.2596 - val_loss: 0.0934 - val_mean_absolute_error: 0.2602\n",
      "Epoch 3/5\n",
      "3125/3125 [==============================] - 6s 2ms/step - loss: 0.0928 - mean_absolute_error: 0.2596 - val_loss: 0.0934 - val_mean_absolute_error: 0.2602\n",
      "Epoch 4/5\n",
      "3125/3125 [==============================] - 6s 2ms/step - loss: 0.0928 - mean_absolute_error: 0.2596 - val_loss: 0.0934 - val_mean_absolute_error: 0.2602\n",
      "Epoch 5/5\n",
      "3125/3125 [==============================] - 6s 2ms/step - loss: 0.0928 - mean_absolute_error: 0.2596 - val_loss: 0.0934 - val_mean_absolute_error: 0.2602\n"
     ]
    },
    {
     "data": {
      "text/plain": [
       "<keras.callbacks.History at 0x1816368d30>"
      ]
     },
     "execution_count": 91,
     "metadata": {},
     "output_type": "execute_result"
    }
   ],
   "source": [
    "training_generator = DataGenerator(open(\"data.csv\", 'r'), total_num_data=100000, num_features=2)\n",
    "validation_generator = DataGenerator(open(\"data_test.csv\", 'r'), total_num_data=100000, num_features=2)\n",
    "\n",
    "model.fit_generator(generator=training_generator,\n",
    "                    validation_data=validation_generator,\n",
    "                    epochs=5)"
   ]
  },
  {
   "cell_type": "code",
   "execution_count": null,
   "metadata": {
    "collapsed": true
   },
   "outputs": [],
   "source": []
  }
 ],
 "metadata": {
  "kernelspec": {
   "display_name": "Python 3",
   "language": "python",
   "name": "python3"
  },
  "language_info": {
   "codemirror_mode": {
    "name": "ipython",
    "version": 3
   },
   "file_extension": ".py",
   "mimetype": "text/x-python",
   "name": "python",
   "nbconvert_exporter": "python",
   "pygments_lexer": "ipython3",
   "version": "3.6.3"
  }
 },
 "nbformat": 4,
 "nbformat_minor": 2
}
